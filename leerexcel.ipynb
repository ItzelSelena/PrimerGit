{
 "cells": [
  {
   "cell_type": "code",
   "execution_count": 4,
   "id": "6fc8f4b9",
   "metadata": {
    "scrolled": true
   },
   "outputs": [
    {
     "name": "stdout",
     "output_type": "stream",
     "text": [
      "Requirement already satisfied: openpyxl in c:\\users\\itzel\\documents\\development\\venv\\nombre_del_entorno\\lib\\site-packages (3.1.2)\n",
      "Requirement already satisfied: et-xmlfile in c:\\users\\itzel\\documents\\development\\venv\\nombre_del_entorno\\lib\\site-packages (from openpyxl) (1.1.0)\n",
      "Note: you may need to restart the kernel to use updated packages.\n"
     ]
    }
   ],
   "source": [
    "#pip install openpyxl"
   ]
  },
  {
   "cell_type": "code",
   "execution_count": 29,
   "id": "540c0f84",
   "metadata": {},
   "outputs": [],
   "source": [
    "import openpyxl"
   ]
  },
  {
   "cell_type": "code",
   "execution_count": 36,
   "id": "52dbfd66",
   "metadata": {},
   "outputs": [],
   "source": [
    "archivo_excel = 'Libro 2.xlsx'\n",
    "\n",
    "# Cargar el archivo Excel, si me voy a ahacert un only de patas o algo hahaha xD vavavavavav jalo si jalo que... si, que eso xD se me fué que te iba a decir xd pero que si me ahorras el trabajo de la adm si jalo xd \n",
    "#el segundo parametro de openpyxl.load_workbook despues de archivo_excel es para eliminar las formulas de la cela, mas bien apra que no aparezcan las formulas y te de el resultado del mismo C: si, eso \n",
    "libro = openpyxl.load_workbook(archivo_excel, data_only=True)"
   ]
  },
  {
   "cell_type": "code",
   "execution_count": 31,
   "id": "b3e3f7c6",
   "metadata": {
    "scrolled": true
   },
   "outputs": [
    {
     "name": "stdout",
     "output_type": "stream",
     "text": [
      "[<Worksheet \"Hoja1\">]\n"
     ]
    }
   ],
   "source": [
    "print(libro.worksheets)"
   ]
  },
  {
   "cell_type": "code",
   "execution_count": 32,
   "id": "48b692e0",
   "metadata": {},
   "outputs": [],
   "source": [
    "hoja = libro.worksheets[0]\n",
    "tabla = hoja.iter_rows()"
   ]
  },
  {
   "cell_type": "code",
   "execution_count": 33,
   "id": "a71ddaa4",
   "metadata": {},
   "outputs": [
    {
     "name": "stdout",
     "output_type": "stream",
     "text": [
      "<generator object Worksheet._cells_by_row at 0x00000170A8A9A3C8>\n"
     ]
    }
   ],
   "source": [
    "#que miedo :3 ? xD entre corchetes? vavavavavva\n",
    "print(tabla)\n",
    "tabla = list(tabla)"
   ]
  },
  {
   "cell_type": "code",
   "execution_count": 34,
   "id": "b1d832a8",
   "metadata": {},
   "outputs": [
    {
     "name": "stdout",
     "output_type": "stream",
     "text": [
      "[(<Cell 'Hoja1'.A1>, <Cell 'Hoja1'.B1>, <Cell 'Hoja1'.C1>, <Cell 'Hoja1'.D1>, <Cell 'Hoja1'.E1>, <Cell 'Hoja1'.F1>, <Cell 'Hoja1'.G1>, <Cell 'Hoja1'.H1>), (<Cell 'Hoja1'.A2>, <Cell 'Hoja1'.B2>, <Cell 'Hoja1'.C2>, <Cell 'Hoja1'.D2>, <Cell 'Hoja1'.E2>, <Cell 'Hoja1'.F2>, <Cell 'Hoja1'.G2>, <Cell 'Hoja1'.H2>), (<Cell 'Hoja1'.A3>, <Cell 'Hoja1'.B3>, <Cell 'Hoja1'.C3>, <Cell 'Hoja1'.D3>, <Cell 'Hoja1'.E3>, <Cell 'Hoja1'.F3>, <Cell 'Hoja1'.G3>, <Cell 'Hoja1'.H3>), (<Cell 'Hoja1'.A4>, <Cell 'Hoja1'.B4>, <Cell 'Hoja1'.C4>, <Cell 'Hoja1'.D4>, <Cell 'Hoja1'.E4>, <Cell 'Hoja1'.F4>, <Cell 'Hoja1'.G4>, <Cell 'Hoja1'.H4>)]\n"
     ]
    }
   ],
   "source": [
    "#se lee de izquierda a derecha y se lee por filas, seria, no? chi <3 hahaha igual a mi \n",
    "print(tabla)"
   ]
  },
  {
   "cell_type": "code",
   "execution_count": 39,
   "id": "aa5fc44c",
   "metadata": {},
   "outputs": [
    {
     "name": "stdout",
     "output_type": "stream",
     "text": [
      "nombre |calificacion 1 |calificacion 2 |calidficacion 3 |calificacion 4 |calificacion 5 |calificacion 6 |total |\n",
      "georgnina |80 |90 |91.5 |60 |85 |78 |80.75 |\n",
      "laura |89 |90 |76 |78 |45 |0 |63 |\n",
      "pedro |56 |78 |56 |78 |67 |78 |68.83333333333333 |\n"
     ]
    }
   ],
   "source": [
    "#se harà un for doble :3 for que? xd rows? gracias TnT ahhahahab  ohhhhh hahaha pero me perdì xdxd ahhhh tambien imprime las formulas :0 vavavavva voy a quitar tantito el formato  \n",
    "# Oyeee, tengo una pregunta y es juto lo que le estaba preguntando la IA\n",
    "#que pasa si el archivo excel tiene filtros? :C vi que una funcion para desactivarlos o es que si no se desactivan no se leen todos los datos? osea osea solo se leen los visibles o si lee todos? :0\n",
    "# vavavavavva\n",
    "# khe ahahhahahahaha disocié xdxd \n",
    "#sisoy xd programas que? D:  ay dios , no puedo solo desactivar todos y ya que se alo que diosito quiera? \n",
    "# pero si quiero que se lea todo vavavavavva oki :3 si, entiendo C: \n",
    "# es decir, guardarlo en la base de datos va \n",
    "# mano...? ahhh ok ok osea komo .-. (?) abro... si... ah oki \n",
    "for fila in tabla:\n",
    "    for celda in fila:\n",
    "        print(celda.value, \"|\", end=\"\")\n",
    "    print(\"\") "
   ]
  },
  {
   "cell_type": "code",
   "execution_count": 20,
   "id": "2f96e7c9",
   "metadata": {},
   "outputs": [],
   "source": [
    "# Cerrar el archivo Excel después de usarlo nu maaaaa esta quitando las formulas xdxd kemosion  jahahahaha numa que feo hahahahhahahahaha  dej alo comento  \n",
    "# vavavavavava \n",
    "libro.close()"
   ]
  },
  {
   "cell_type": "code",
   "execution_count": null,
   "id": "84231766",
   "metadata": {},
   "outputs": [],
   "source": []
  }
 ],
 "metadata": {
  "kernelspec": {
   "display_name": "Python 3 (ipykernel)",
   "language": "python",
   "name": "python3"
  },
  "language_info": {
   "codemirror_mode": {
    "name": "ipython",
    "version": 3
   },
   "file_extension": ".py",
   "mimetype": "text/x-python",
   "name": "python",
   "nbconvert_exporter": "python",
   "pygments_lexer": "ipython3",
   "version": "3.7.9"
  }
 },
 "nbformat": 4,
 "nbformat_minor": 5
}
